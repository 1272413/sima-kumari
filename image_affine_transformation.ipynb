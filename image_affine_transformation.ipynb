{
 "cells": [
  {
   "cell_type": "code",
   "execution_count": 1,
   "id": "89ce18f4-21c3-49d7-8efa-f636b5049fff",
   "metadata": {},
   "outputs": [],
   "source": [
    "import cv2\n",
    "import numpy as np\n",
    "import matplotlib.pyplot as plt"
   ]
  },
  {
   "cell_type": "code",
   "execution_count": 8,
   "id": "49a332fb-3ebe-4716-bfe9-3b4fc9563b45",
   "metadata": {},
   "outputs": [],
   "source": [
    "img=cv2.imread('images/lenna.png')\n",
    "tx=50\n",
    "ty=100\n",
    "angle=45\n",
    "scale=0.75\n",
    "shear=1.2\n",
    "shear_x=0.3\n",
    "shear_y=0.2\n",
    "M=np.float32([[scale*np.cos(np.radians(angle)), shear_x, tx],\n",
    "           [shear_y, scale*np.sin(np.radians(angle)), ty]])\n",
    "img_affine=cv2.warpAffine(img,M,(512,512))\n",
    "final_image=np.hstack([img,img_affine])\n",
    "cv2.imshow('Affine transformed Image',final_image)\n",
    "cv2.waitKey(0)\n",
    "cv2.destroyAllWindows()\n"
   ]
  },
  {
   "cell_type": "code",
   "execution_count": null,
   "id": "e1bc0d2d-4507-4ff5-9a34-fbdd6bd05590",
   "metadata": {},
   "outputs": [],
   "source": []
  }
 ],
 "metadata": {
  "kernelspec": {
   "display_name": "Python 3 (ipykernel)",
   "language": "python",
   "name": "python3"
  },
  "language_info": {
   "codemirror_mode": {
    "name": "ipython",
    "version": 3
   },
   "file_extension": ".py",
   "mimetype": "text/x-python",
   "name": "python",
   "nbconvert_exporter": "python",
   "pygments_lexer": "ipython3",
   "version": "3.11.7"
  }
 },
 "nbformat": 4,
 "nbformat_minor": 5
}
