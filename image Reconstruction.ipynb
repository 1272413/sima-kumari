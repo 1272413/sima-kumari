{
 "cells": [
  {
   "cell_type": "code",
   "execution_count": 3,
   "id": "b309b191-b6aa-4d40-8008-ab76bbcec06f",
   "metadata": {},
   "outputs": [],
   "source": [
    "import numpy as np\n",
    "import matplotlib.pyplot as plt\n",
    "import cv2\n",
    "img=cv2.imread('images/cat_damaged.png')\n",
    "\n",
    "cv2.imshow('Damaged Image',img)\n",
    "\n",
    "\n",
    "\n",
    "cv2.waitKey(0)\n",
    "cv2.destroyAllWindows()"
   ]
  },
  {
   "cell_type": "code",
   "execution_count": 5,
   "id": "7902e5ef-96d1-419e-801b-de914c878cf0",
   "metadata": {},
   "outputs": [],
   "source": [
    "height,width= img.shape[:2]"
   ]
  },
  {
   "cell_type": "code",
   "execution_count": 6,
   "id": "1f9d2690-afba-4097-bf67-29e9cd020249",
   "metadata": {},
   "outputs": [
    {
     "data": {
      "text/plain": [
       "(400, 400)"
      ]
     },
     "execution_count": 6,
     "metadata": {},
     "output_type": "execute_result"
    }
   ],
   "source": [
    "height,width"
   ]
  },
  {
   "cell_type": "code",
   "execution_count": 12,
   "id": "b8f2fcb4-1bc5-46d8-9df1-ad718f93fd65",
   "metadata": {},
   "outputs": [],
   "source": [
    "mask=np.zeros([height,width,3],dtype=np.uint8)"
   ]
  },
  {
   "cell_type": "code",
   "execution_count": 13,
   "id": "6deb6be0-ba93-4367-aa7e-c16c4ad7d539",
   "metadata": {},
   "outputs": [],
   "source": [
    "cv2.imshow('mask',mask)\n",
    "\n",
    "cv2.waitKey(0)\n",
    "cv2.destroyAllWindows()"
   ]
  },
  {
   "cell_type": "code",
   "execution_count": 16,
   "id": "d0a1b9eb-d3e0-4cbf-9b7e-a94c280c5f33",
   "metadata": {},
   "outputs": [],
   "source": [
    "for i in range(height):\n",
    "    for j in range(width):\n",
    "        if img[i,j].sum()==0:\n",
    "         mask[i,j]=[255,255,255]\n",
    "cv2.imshow('mask',mask)\n",
    "\n",
    "cv2.waitKey(0)\n",
    "cv2.destroyAllWindows()"
   ]
  },
  {
   "cell_type": "code",
   "execution_count": 17,
   "id": "92eb8bda-faef-46a7-aa94-6037a128880b",
   "metadata": {},
   "outputs": [],
   "source": [
    "mask=cv2.cvtColor(mask,cv2.COLOR_BGR2GRAY)"
   ]
  },
  {
   "cell_type": "code",
   "execution_count": 18,
   "id": "6a7d390f-544a-489b-a13d-ff014a7722d5",
   "metadata": {},
   "outputs": [],
   "source": [
    "#inpaint\n",
    "dst=cv2.inpaint(img,mask,3,cv2.INPAINT_NS)"
   ]
  },
  {
   "cell_type": "code",
   "execution_count": 19,
   "id": "f4ccaed9-de10-4e54-80c0-6e2eae534ef3",
   "metadata": {},
   "outputs": [],
   "source": [
    "cv2.imshow('inpaint',dst)\n",
    "\n",
    "cv2.waitKey(0)\n",
    "cv2.destroyAllWindows()"
   ]
  },
  {
   "cell_type": "code",
   "execution_count": null,
   "id": "dfd465c2-9aa4-43f6-8cba-3e8513a7b4fc",
   "metadata": {},
   "outputs": [],
   "source": []
  }
 ],
 "metadata": {
  "kernelspec": {
   "display_name": "Python 3 (ipykernel)",
   "language": "python",
   "name": "python3"
  },
  "language_info": {
   "codemirror_mode": {
    "name": "ipython",
    "version": 3
   },
   "file_extension": ".py",
   "mimetype": "text/x-python",
   "name": "python",
   "nbconvert_exporter": "python",
   "pygments_lexer": "ipython3",
   "version": "3.11.7"
  }
 },
 "nbformat": 4,
 "nbformat_minor": 5
}
