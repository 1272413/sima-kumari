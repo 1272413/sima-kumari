{
 "cells": [
  {
   "cell_type": "code",
   "execution_count": 1,
   "id": "50f68890-e184-499e-8242-8b035e75ca09",
   "metadata": {},
   "outputs": [],
   "source": [
    "import cv2\n",
    "import numpy as np\n",
    "import matplotlib.pyplot as plt"
   ]
  },
  {
   "cell_type": "code",
   "execution_count": 4,
   "id": "9a411adb-adf8-41e7-b9e3-d08f5c6dfb9d",
   "metadata": {},
   "outputs": [],
   "source": [
    "shear_x=-0.25\n",
    "shear_y=0.45\n",
    "image=cv2.imread('images/draw.png')\n",
    "M=np.array([[1,shear_x,0],[shear_y,1,0],[0,0,1]])\n",
    "rows,cols,_=image.shape\n",
    "T=np.float32([[1,0,0],[0,1,50]])\n",
    "img_tranlation=cv2.warpAffine(image,T,(int(cols*1.5),int(rows*1.5)))\n",
    "sheared_img=cv2.warpPerspective(img_tranlation,M,(int(cols*1.5),\n",
    "                                                  int(rows*1.5)))\n",
    "cv2.imshow('img',sheared_img)\n",
    "cv2.waitKey(0)\n",
    "cv2.destroyAllWindows()\n",
    "        "
   ]
  },
  {
   "cell_type": "code",
   "execution_count": null,
   "id": "862eedc8-ceab-407d-b476-56e85c66a623",
   "metadata": {},
   "outputs": [],
   "source": []
  }
 ],
 "metadata": {
  "kernelspec": {
   "display_name": "Python 3 (ipykernel)",
   "language": "python",
   "name": "python3"
  },
  "language_info": {
   "codemirror_mode": {
    "name": "ipython",
    "version": 3
   },
   "file_extension": ".py",
   "mimetype": "text/x-python",
   "name": "python",
   "nbconvert_exporter": "python",
   "pygments_lexer": "ipython3",
   "version": "3.11.7"
  }
 },
 "nbformat": 4,
 "nbformat_minor": 5
}
