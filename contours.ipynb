{
 "cells": [
  {
   "cell_type": "code",
   "execution_count": null,
   "id": "8ec0e520-a335-40a5-83d5-05d09fef19c6",
   "metadata": {},
   "outputs": [],
   "source": [
    "import cv2\n",
    "img=cv2.imread('images/circle.png')\n",
    "gray=cv2.cvtColor(img,cv2.COLOR_BGR2GRAY)\n",
    "\n",
    "\n",
    "thresh=cv2.threshold(gray,127,255,cv2.THRESH_BINARY)[1]\n",
    "contours,hierachy=cv2.findContours(thresh,cv2.RETR_TREE,cv2.CHAIN_APPROX_SIMPLE)\n",
    "cv2.drawContours(img,contours,-1,(0,255,0),2)\n",
    "\n",
    "cv2.imshow('original image',img)\n",
    "\n",
    "cv2.imshow('gray',gray)\n",
    "cv2.imshow('threshold image',thresh)\n",
    "\n",
    "cv2.waitKey(0)\n",
    "cv2.destroyAllWindows()"
   ]
  },
  {
   "cell_type": "code",
   "execution_count": 2,
   "id": "f1d241e1-7ad0-400f-8c90-688cc3f00f0c",
   "metadata": {},
   "outputs": [],
   "source": [
    "import cv2\n",
    "img=cv2.imread('images/circle.png')\n",
    "gray=cv2.cvtColor(img,cv2.COLOR_BGR2GRAY)\n",
    "\n",
    "\n",
    "thresh=cv2.threshold(gray,127,255,cv2.THRESH_BINARY)[1]\n",
    "contours,hierachy=cv2.findContours(thresh,cv2.RETR_TREE,cv2.CHAIN_APPROX_SIMPLE)\n",
    "cv2.drawContours(img,contours,-1,(0,255,0),2)\n",
    "\n",
    "cv2.imshow('original image',img)\n",
    "\n",
    "cv2.imshow('gray',gray)\n",
    "cv2.imshow('threshold image',thresh)\n",
    "\n",
    "cv2.waitKey(0)\n",
    "cv2.destroyAllWindows()"
   ]
  },
  {
   "cell_type": "code",
   "execution_count": 3,
   "id": "72277b65-58d3-4b52-8707-210131242e39",
   "metadata": {},
   "outputs": [],
   "source": [
    "import cv2\n",
    "img=cv2.imread('images/lenna.png')\n",
    "gray=cv2.cvtColor(img,cv2.COLOR_BGR2GRAY)\n",
    "\n",
    "\n",
    "thresh=cv2.threshold(gray,127,255,cv2.THRESH_BINARY)[1]\n",
    "contours,hierachy=cv2.findContours(thresh,cv2.RETR_TREE,cv2.CHAIN_APPROX_SIMPLE)\n",
    "cv2.drawContours(img,contours,-1,(0,255,0),2)\n",
    "\n",
    "cv2.imshow('original image',img)\n",
    "\n",
    "cv2.imshow('gray',gray)\n",
    "cv2.imshow('threshold image',thresh)\n",
    "\n",
    "cv2.waitKey(0)\n",
    "cv2.destroyAllWindows()"
   ]
  },
  {
   "cell_type": "code",
   "execution_count": null,
   "id": "02b6718d-a390-4ed2-8639-5fb53eed6175",
   "metadata": {},
   "outputs": [],
   "source": []
  }
 ],
 "metadata": {
  "kernelspec": {
   "display_name": "Python 3 (ipykernel)",
   "language": "python",
   "name": "python3"
  },
  "language_info": {
   "codemirror_mode": {
    "name": "ipython",
    "version": 3
   },
   "file_extension": ".py",
   "mimetype": "text/x-python",
   "name": "python",
   "nbconvert_exporter": "python",
   "pygments_lexer": "ipython3",
   "version": "3.11.7"
  }
 },
 "nbformat": 4,
 "nbformat_minor": 5
}
