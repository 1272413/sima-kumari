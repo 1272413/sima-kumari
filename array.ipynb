{
 "cells": [
  {
   "cell_type": "markdown",
   "id": "9ad30f04-cca6-46a2-91f2-a0573529389f",
   "metadata": {},
   "source": [
    "##### create array"
   ]
  },
  {
   "cell_type": "code",
   "execution_count": 11,
   "id": "8ca7a8e6-857f-4452-9b1b-1a5e73164857",
   "metadata": {},
   "outputs": [],
   "source": [
    "import numpy as np"
   ]
  },
  {
   "cell_type": "code",
   "execution_count": 12,
   "id": "ca582e5b-6ae3-4a40-9326-5def1af00202",
   "metadata": {},
   "outputs": [],
   "source": [
    "x= np.array([25,44,89,56])\n"
   ]
  },
  {
   "cell_type": "code",
   "execution_count": 13,
   "id": "fb14ee36-bebf-46d5-9215-53dfa4f1fee3",
   "metadata": {},
   "outputs": [
    {
     "name": "stdout",
     "output_type": "stream",
     "text": [
      "[25 44 89 56]\n"
     ]
    }
   ],
   "source": [
    "print(x)"
   ]
  },
  {
   "cell_type": "code",
   "execution_count": 14,
   "id": "0def0964-82a6-4845-a8ab-f90930850b78",
   "metadata": {},
   "outputs": [
    {
     "data": {
      "text/plain": [
       "numpy.ndarray"
      ]
     },
     "execution_count": 14,
     "metadata": {},
     "output_type": "execute_result"
    }
   ],
   "source": [
    "type(x)"
   ]
  },
  {
   "cell_type": "code",
   "execution_count": 15,
   "id": "8e5abea0-4fd5-4c3e-8014-52e0895925f1",
   "metadata": {},
   "outputs": [
    {
     "data": {
      "text/plain": [
       "1"
      ]
     },
     "execution_count": 15,
     "metadata": {},
     "output_type": "execute_result"
    }
   ],
   "source": [
    "x.ndim"
   ]
  },
  {
   "cell_type": "code",
   "execution_count": 16,
   "id": "9191ceb9-c32c-40d5-855f-fb65bf122e45",
   "metadata": {},
   "outputs": [
    {
     "data": {
      "text/plain": [
       "array([25, 44, 89, 56])"
      ]
     },
     "execution_count": 16,
     "metadata": {},
     "output_type": "execute_result"
    }
   ],
   "source": [
    "x"
   ]
  },
  {
   "cell_type": "code",
   "execution_count": 17,
   "id": "f0df849b-d320-4293-b09d-871522a62468",
   "metadata": {},
   "outputs": [
    {
     "data": {
      "text/plain": [
       "dtype('int32')"
      ]
     },
     "execution_count": 17,
     "metadata": {},
     "output_type": "execute_result"
    }
   ],
   "source": [
    "x.dtype"
   ]
  },
  {
   "cell_type": "code",
   "execution_count": 19,
   "id": "27344af7-2471-4dfe-b0b3-b4beb2ed8a34",
   "metadata": {},
   "outputs": [],
   "source": [
    "x= np.array([25,44,89,56],dtype=np.int8)\n"
   ]
  },
  {
   "cell_type": "code",
   "execution_count": 20,
   "id": "6b0fbf8a-58ca-460e-ad8e-54248b5f4089",
   "metadata": {},
   "outputs": [
    {
     "data": {
      "text/plain": [
       "array([25, 44, 89, 56], dtype=int8)"
      ]
     },
     "execution_count": 20,
     "metadata": {},
     "output_type": "execute_result"
    }
   ],
   "source": [
    "x"
   ]
  },
  {
   "cell_type": "code",
   "execution_count": 27,
   "id": "b3df91ef-0a48-4e3f-a64a-dae803b221f0",
   "metadata": {},
   "outputs": [],
   "source": [
    "x[0]= 100"
   ]
  },
  {
   "cell_type": "code",
   "execution_count": 23,
   "id": "707f7397-91a0-49d3-8ca0-3068deb742a0",
   "metadata": {},
   "outputs": [],
   "source": [
    "x= np.array([25,44,89,56],dtype=np.uint8)\n"
   ]
  },
  {
   "cell_type": "code",
   "execution_count": 24,
   "id": "5331e7ae-e934-45d4-a2cd-c74b8eaa588f",
   "metadata": {},
   "outputs": [
    {
     "data": {
      "text/plain": [
       "array([25, 44, 89, 56], dtype=uint8)"
      ]
     },
     "execution_count": 24,
     "metadata": {},
     "output_type": "execute_result"
    }
   ],
   "source": [
    "x"
   ]
  },
  {
   "cell_type": "code",
   "execution_count": 26,
   "id": "7361c877-4228-4d08-b866-c7998f31f7c8",
   "metadata": {},
   "outputs": [],
   "source": [
    "x[0]=40"
   ]
  },
  {
   "cell_type": "code",
   "execution_count": 28,
   "id": "6b71722f-2fac-42ec-bd6e-76b6c093a2ab",
   "metadata": {},
   "outputs": [
    {
     "data": {
      "text/plain": [
       "4"
      ]
     },
     "execution_count": 28,
     "metadata": {},
     "output_type": "execute_result"
    }
   ],
   "source": [
    "x.size"
   ]
  },
  {
   "cell_type": "code",
   "execution_count": 29,
   "id": "9e60b210-ff4a-4d58-a5ec-379b55c2e654",
   "metadata": {},
   "outputs": [
    {
     "data": {
      "text/plain": [
       "(4,)"
      ]
     },
     "execution_count": 29,
     "metadata": {},
     "output_type": "execute_result"
    }
   ],
   "source": [
    "x.shape"
   ]
  },
  {
   "cell_type": "code",
   "execution_count": 31,
   "id": "7c802242-2acc-4ae3-8585-c3eaa7b14987",
   "metadata": {},
   "outputs": [
    {
     "data": {
      "text/plain": [
       "44"
      ]
     },
     "execution_count": 31,
     "metadata": {},
     "output_type": "execute_result"
    }
   ],
   "source": [
    "x.min()"
   ]
  },
  {
   "cell_type": "code",
   "execution_count": 32,
   "id": "e86b6776-c07d-4387-99d2-67d81e797897",
   "metadata": {},
   "outputs": [
    {
     "data": {
      "text/plain": [
       "100"
      ]
     },
     "execution_count": 32,
     "metadata": {},
     "output_type": "execute_result"
    }
   ],
   "source": [
    "x.max()"
   ]
  },
  {
   "cell_type": "code",
   "execution_count": 33,
   "id": "cfac5a38-d033-43fa-84f4-6494c4b9a888",
   "metadata": {},
   "outputs": [
    {
     "data": {
      "text/plain": [
       "array([100,  44,  89,  56], dtype=uint8)"
      ]
     },
     "execution_count": 33,
     "metadata": {},
     "output_type": "execute_result"
    }
   ],
   "source": [
    "x"
   ]
  },
  {
   "cell_type": "code",
   "execution_count": 35,
   "id": "e5ad2da7-7190-4ce5-85fc-fbd4a24c8c13",
   "metadata": {},
   "outputs": [
    {
     "data": {
      "text/plain": [
       "72.25"
      ]
     },
     "execution_count": 35,
     "metadata": {},
     "output_type": "execute_result"
    }
   ],
   "source": [
    "x.mean()"
   ]
  },
  {
   "cell_type": "code",
   "execution_count": 36,
   "id": "20798b1f-1563-4f6c-8e4f-39baa281ac61",
   "metadata": {},
   "outputs": [],
   "source": [
    "x.sort()"
   ]
  },
  {
   "cell_type": "code",
   "execution_count": 37,
   "id": "9b78cd74-d5db-49c8-aac4-6e3e2ffebf18",
   "metadata": {},
   "outputs": [
    {
     "data": {
      "text/plain": [
       "22.982330169066845"
      ]
     },
     "execution_count": 37,
     "metadata": {},
     "output_type": "execute_result"
    }
   ],
   "source": [
    "x.std()\n"
   ]
  },
  {
   "cell_type": "code",
   "execution_count": 38,
   "id": "df681711-dbd4-4854-ad51-b85079d9e857",
   "metadata": {},
   "outputs": [
    {
     "data": {
      "text/plain": [
       "289"
      ]
     },
     "execution_count": 38,
     "metadata": {},
     "output_type": "execute_result"
    }
   ],
   "source": [
    "x.sum()"
   ]
  },
  {
   "cell_type": "code",
   "execution_count": 42,
   "id": "95aa92b1-e05b-44fa-9e87-3daf16a7d18b",
   "metadata": {},
   "outputs": [],
   "source": [
    "y=np.array([45,34.5,56,67])"
   ]
  },
  {
   "cell_type": "code",
   "execution_count": 40,
   "id": "79c0ff74-0fc0-4f76-a589-52e36f48843c",
   "metadata": {},
   "outputs": [
    {
     "data": {
      "text/plain": [
       "numpy.ndarray"
      ]
     },
     "execution_count": 40,
     "metadata": {},
     "output_type": "execute_result"
    }
   ],
   "source": [
    "type(y)"
   ]
  },
  {
   "cell_type": "code",
   "execution_count": 43,
   "id": "2ff238dc-8b8c-484f-a208-b861ee6cf1d5",
   "metadata": {},
   "outputs": [
    {
     "data": {
      "text/plain": [
       "array([45. , 34.5, 56. , 67. ])"
      ]
     },
     "execution_count": 43,
     "metadata": {},
     "output_type": "execute_result"
    }
   ],
   "source": [
    "y"
   ]
  },
  {
   "cell_type": "code",
   "execution_count": 44,
   "id": "0538ef07-99a0-4f04-b85e-ae985defeff4",
   "metadata": {},
   "outputs": [
    {
     "data": {
      "text/plain": [
       "dtype('float64')"
      ]
     },
     "execution_count": 44,
     "metadata": {},
     "output_type": "execute_result"
    }
   ],
   "source": [
    "y.dtype"
   ]
  },
  {
   "cell_type": "code",
   "execution_count": 45,
   "id": "945b4226-6c5f-4451-8155-ae88e740854a",
   "metadata": {},
   "outputs": [],
   "source": [
    "z=np.array([45,34.5,56,67,True])"
   ]
  },
  {
   "cell_type": "code",
   "execution_count": 46,
   "id": "8c609afa-62d1-4541-a452-54baf6acd99e",
   "metadata": {},
   "outputs": [
    {
     "data": {
      "text/plain": [
       "array([45. , 34.5, 56. , 67. ,  1. ])"
      ]
     },
     "execution_count": 46,
     "metadata": {},
     "output_type": "execute_result"
    }
   ],
   "source": [
    "z"
   ]
  },
  {
   "cell_type": "code",
   "execution_count": 47,
   "id": "04a744de-5d00-46e4-b48c-2bc68d25c4ce",
   "metadata": {},
   "outputs": [],
   "source": [
    "z=np.zeros(10)"
   ]
  },
  {
   "cell_type": "code",
   "execution_count": 48,
   "id": "4e02a56d-cc96-4dc3-b5b7-5f95feb78fc1",
   "metadata": {},
   "outputs": [
    {
     "data": {
      "text/plain": [
       "array([0., 0., 0., 0., 0., 0., 0., 0., 0., 0.])"
      ]
     },
     "execution_count": 48,
     "metadata": {},
     "output_type": "execute_result"
    }
   ],
   "source": [
    "z\n"
   ]
  },
  {
   "cell_type": "code",
   "execution_count": 49,
   "id": "eceb0be7-d9f3-44c6-919f-de10965e9f6b",
   "metadata": {},
   "outputs": [],
   "source": [
    "q=np.ones(10)"
   ]
  },
  {
   "cell_type": "code",
   "execution_count": 50,
   "id": "80649dce-dad1-472b-a70d-e0aa1cb5c5ed",
   "metadata": {},
   "outputs": [
    {
     "data": {
      "text/plain": [
       "array([1., 1., 1., 1., 1., 1., 1., 1., 1., 1.])"
      ]
     },
     "execution_count": 50,
     "metadata": {},
     "output_type": "execute_result"
    }
   ],
   "source": [
    "q\n"
   ]
  },
  {
   "cell_type": "code",
   "execution_count": 52,
   "id": "7def2aa1-e108-44e5-922f-55a14ab0081f",
   "metadata": {},
   "outputs": [],
   "source": [
    "q=np.ones(10)"
   ]
  },
  {
   "cell_type": "code",
   "execution_count": 57,
   "id": "c129a9c6-cf80-4824-94fa-f8a9f687462d",
   "metadata": {},
   "outputs": [
    {
     "data": {
      "text/plain": [
       "array([4, 5, 6, 7, 8, 9])"
      ]
     },
     "execution_count": 57,
     "metadata": {},
     "output_type": "execute_result"
    }
   ],
   "source": [
    "np.arange(4,10)"
   ]
  },
  {
   "cell_type": "code",
   "execution_count": 58,
   "id": "b5c6fd76-2cb3-4082-9f87-8f74e5359d3b",
   "metadata": {},
   "outputs": [
    {
     "data": {
      "text/plain": [
       "array([4, 6, 8])"
      ]
     },
     "execution_count": 58,
     "metadata": {},
     "output_type": "execute_result"
    }
   ],
   "source": [
    "np.arange(4,10,2)"
   ]
  },
  {
   "cell_type": "markdown",
   "id": "024ff194-750e-4bf2-8563-2ce7800c5828",
   "metadata": {},
   "source": [
    "##### arrray operation"
   ]
  },
  {
   "cell_type": "code",
   "execution_count": 59,
   "id": "1b361848-addf-4e5a-9bda-2adec92df186",
   "metadata": {},
   "outputs": [],
   "source": [
    "num1=np.array([34,35,67,88,34])\n",
    "num2=np.array([34,67,23,90,23])"
   ]
  },
  {
   "cell_type": "code",
   "execution_count": 60,
   "id": "fa4b0978-84bc-412c-930c-678b47bc04fc",
   "metadata": {},
   "outputs": [
    {
     "data": {
      "text/plain": [
       "array([44, 45, 77, 98, 44])"
      ]
     },
     "execution_count": 60,
     "metadata": {},
     "output_type": "execute_result"
    }
   ],
   "source": [
    "num1+10"
   ]
  },
  {
   "cell_type": "code",
   "execution_count": 62,
   "id": "703046dc-20d7-466b-82c3-17c96a3ccfb4",
   "metadata": {},
   "outputs": [
    {
     "data": {
      "text/plain": [
       "array([17. , 17.5, 33.5, 44. , 17. ])"
      ]
     },
     "execution_count": 62,
     "metadata": {},
     "output_type": "execute_result"
    }
   ],
   "source": [
    "num1 /2\n"
   ]
  },
  {
   "cell_type": "code",
   "execution_count": 63,
   "id": "c91da040-2493-4c23-8dd6-00f4127a2702",
   "metadata": {},
   "outputs": [
    {
     "data": {
      "text/plain": [
       "array([ 68, 102,  90, 178,  57])"
      ]
     },
     "execution_count": 63,
     "metadata": {},
     "output_type": "execute_result"
    }
   ],
   "source": [
    "num1+num2"
   ]
  },
  {
   "cell_type": "code",
   "execution_count": 64,
   "id": "d96a92d5-6bda-4f0c-ad0c-3ca30d30e250",
   "metadata": {},
   "outputs": [
    {
     "data": {
      "text/plain": [
       "[35, 55, 7, 8, 35, 55, 7, 8, 35, 55, 7, 8]"
      ]
     },
     "execution_count": 64,
     "metadata": {},
     "output_type": "execute_result"
    }
   ],
   "source": [
    "[35,55,7,8]*3"
   ]
  },
  {
   "cell_type": "markdown",
   "id": "f405f58a-d5ac-479b-97db-4bdd58a8e802",
   "metadata": {},
   "source": [
    "##### matrix"
   ]
  },
  {
   "cell_type": "code",
   "execution_count": 69,
   "id": "08451fb8-4a2a-4f62-a8dc-d13f52ce2e1d",
   "metadata": {},
   "outputs": [],
   "source": [
    "M=np.array([[2,3,4],[3,5,4]])"
   ]
  },
  {
   "cell_type": "code",
   "execution_count": 70,
   "id": "a38e84f2-37d5-4fc2-b307-156139ed6a7b",
   "metadata": {},
   "outputs": [
    {
     "data": {
      "text/plain": [
       "array([[2, 3, 4],\n",
       "       [3, 5, 4]])"
      ]
     },
     "execution_count": 70,
     "metadata": {},
     "output_type": "execute_result"
    }
   ],
   "source": [
    "M\n"
   ]
  },
  {
   "cell_type": "code",
   "execution_count": 71,
   "id": "c96d4541-c7e5-460c-9de6-fd39c19472c5",
   "metadata": {},
   "outputs": [
    {
     "data": {
      "text/plain": [
       "dtype('int32')"
      ]
     },
     "execution_count": 71,
     "metadata": {},
     "output_type": "execute_result"
    }
   ],
   "source": [
    "M.dtype"
   ]
  },
  {
   "cell_type": "code",
   "execution_count": 73,
   "id": "6c1579df-3bde-41f1-b587-a48fc17cfc68",
   "metadata": {},
   "outputs": [
    {
     "data": {
      "text/plain": [
       "6"
      ]
     },
     "execution_count": 73,
     "metadata": {},
     "output_type": "execute_result"
    }
   ],
   "source": [
    "M.size"
   ]
  },
  {
   "cell_type": "code",
   "execution_count": 74,
   "id": "d676d4be-2aa3-4a93-a05e-a21a377af3de",
   "metadata": {},
   "outputs": [
    {
     "data": {
      "text/plain": [
       "2"
      ]
     },
     "execution_count": 74,
     "metadata": {},
     "output_type": "execute_result"
    }
   ],
   "source": [
    "M.ndim"
   ]
  },
  {
   "cell_type": "code",
   "execution_count": 76,
   "id": "eeaf4a5a-62d5-4cd2-9082-6a803bcc016e",
   "metadata": {},
   "outputs": [
    {
     "data": {
      "text/plain": [
       "5"
      ]
     },
     "execution_count": 76,
     "metadata": {},
     "output_type": "execute_result"
    }
   ],
   "source": [
    "M[1][1]\n"
   ]
  },
  {
   "cell_type": "code",
   "execution_count": 77,
   "id": "dd4afb98-6cc6-426a-8ba9-4c28f08db091",
   "metadata": {},
   "outputs": [
    {
     "data": {
      "text/plain": [
       "array([[2, 3, 4],\n",
       "       [3, 5, 4]])"
      ]
     },
     "execution_count": 77,
     "metadata": {},
     "output_type": "execute_result"
    }
   ],
   "source": [
    "M"
   ]
  },
  {
   "cell_type": "code",
   "execution_count": 80,
   "id": "9493b4a7-79e1-4ebb-a953-5e0a870754f6",
   "metadata": {},
   "outputs": [
    {
     "data": {
      "text/plain": [
       "array([], shape=(0, 0), dtype=int32)"
      ]
     },
     "execution_count": 80,
     "metadata": {},
     "output_type": "execute_result"
    }
   ],
   "source": [
    "M[1:1,1:1]"
   ]
  },
  {
   "cell_type": "code",
   "execution_count": 81,
   "id": "7aa16e27-9a6d-4d6f-b0d0-54893417c63c",
   "metadata": {},
   "outputs": [],
   "source": [
    "M=np.array([[2,3,4],[3,5,4],[3,5,8],[3,2,9]])"
   ]
  },
  {
   "cell_type": "code",
   "execution_count": 82,
   "id": "1020fca4-c148-470d-b098-38745cff132d",
   "metadata": {},
   "outputs": [
    {
     "data": {
      "text/plain": [
       "array([[2, 3, 4],\n",
       "       [3, 5, 4],\n",
       "       [3, 5, 8],\n",
       "       [3, 2, 9]])"
      ]
     },
     "execution_count": 82,
     "metadata": {},
     "output_type": "execute_result"
    }
   ],
   "source": [
    "M\n"
   ]
  },
  {
   "cell_type": "code",
   "execution_count": 93,
   "id": "2e243745-3adc-4d06-b179-81c3023d07e4",
   "metadata": {},
   "outputs": [],
   "source": [
    "M1=M.reshape(4,3)\n"
   ]
  },
  {
   "cell_type": "code",
   "execution_count": 94,
   "id": "d51451cd-c405-4eba-a32e-a86a918f2877",
   "metadata": {},
   "outputs": [
    {
     "data": {
      "text/plain": [
       "array([[2, 3, 4],\n",
       "       [3, 5, 4],\n",
       "       [3, 5, 8],\n",
       "       [3, 2, 9]])"
      ]
     },
     "execution_count": 94,
     "metadata": {},
     "output_type": "execute_result"
    }
   ],
   "source": [
    "M1"
   ]
  },
  {
   "cell_type": "markdown",
   "id": "319167c7-31a0-4f80-a783-a6994dce0156",
   "metadata": {},
   "source": [
    "M=np.array([[2,3,4],[3,5,4],[3,5,8],[3,2,9]])"
   ]
  },
  {
   "cell_type": "code",
   "execution_count": 108,
   "id": "f5f6dbb7-7fe9-4b7b-a920-c550fae7076b",
   "metadata": {},
   "outputs": [
    {
     "data": {
      "text/plain": [
       "array([[2, 3, 4],\n",
       "       [3, 5, 4],\n",
       "       [3, 5, 8],\n",
       "       [3, 2, 9]])"
      ]
     },
     "execution_count": 108,
     "metadata": {},
     "output_type": "execute_result"
    }
   ],
   "source": [
    "M=np.array([[2,3,4],[3,5,4],[3,5,8],[3,2,9]])\n",
    "M"
   ]
  },
  {
   "cell_type": "code",
   "execution_count": 109,
   "id": "82777d9a-d98c-4f81-861a-10d3cb2b2a8a",
   "metadata": {},
   "outputs": [
    {
     "data": {
      "text/plain": [
       "array([[2, 3, 4, 3, 5, 4],\n",
       "       [3, 5, 8, 3, 2, 9]])"
      ]
     },
     "execution_count": 109,
     "metadata": {},
     "output_type": "execute_result"
    }
   ],
   "source": [
    "M.reshape(2,-1)"
   ]
  },
  {
   "cell_type": "code",
   "execution_count": 110,
   "id": "4c40fbef-920b-4280-bfa2-048c29bf1f19",
   "metadata": {},
   "outputs": [
    {
     "data": {
      "text/plain": [
       "array([2, 3, 4, 3, 5, 4, 3, 5, 8, 3, 2, 9])"
      ]
     },
     "execution_count": 110,
     "metadata": {},
     "output_type": "execute_result"
    }
   ],
   "source": [
    "M.reshape(-1)"
   ]
  },
  {
   "cell_type": "code",
   "execution_count": 111,
   "id": "f864cf12-cba3-4964-b33a-401c6632b63e",
   "metadata": {},
   "outputs": [
    {
     "data": {
      "text/plain": [
       "12"
      ]
     },
     "execution_count": 111,
     "metadata": {},
     "output_type": "execute_result"
    }
   ],
   "source": [
    "M.size"
   ]
  },
  {
   "cell_type": "code",
   "execution_count": 112,
   "id": "87ed33a0-f15f-4f65-a357-a7ef8a26dff3",
   "metadata": {},
   "outputs": [
    {
     "data": {
      "text/plain": [
       "array([[2, 3, 3, 3],\n",
       "       [3, 5, 5, 2],\n",
       "       [4, 4, 8, 9]])"
      ]
     },
     "execution_count": 112,
     "metadata": {},
     "output_type": "execute_result"
    }
   ],
   "source": [
    "M.T"
   ]
  },
  {
   "cell_type": "code",
   "execution_count": 103,
   "id": "faf2f5e9-19d2-48f9-9e80-67a2cd505b0d",
   "metadata": {},
   "outputs": [
    {
     "data": {
      "text/plain": [
       "2"
      ]
     },
     "execution_count": 103,
     "metadata": {},
     "output_type": "execute_result"
    }
   ],
   "source": [
    "M.min()"
   ]
  },
  {
   "cell_type": "code",
   "execution_count": 106,
   "id": "6b3ea2b5-93f6-4fe7-8e71-0d9f4f7d9351",
   "metadata": {},
   "outputs": [
    {
     "data": {
      "text/plain": [
       "array([2, 3, 3, 2])"
      ]
     },
     "execution_count": 106,
     "metadata": {},
     "output_type": "execute_result"
    }
   ],
   "source": [
    "M.min(axis=1)"
   ]
  },
  {
   "cell_type": "code",
   "execution_count": 107,
   "id": "cd0ddb3b-d08c-4526-ab7c-26cd5eb4d2c1",
   "metadata": {},
   "outputs": [
    {
     "data": {
      "text/plain": [
       "array([11, 15, 25])"
      ]
     },
     "execution_count": 107,
     "metadata": {},
     "output_type": "execute_result"
    }
   ],
   "source": [
    "M.sum(axis=0)"
   ]
  },
  {
   "cell_type": "code",
   "execution_count": 115,
   "id": "09eebb6d-5ca5-4b97-a04e-4e9003bbd834",
   "metadata": {},
   "outputs": [
    {
     "data": {
      "text/plain": [
       "3"
      ]
     },
     "execution_count": 115,
     "metadata": {},
     "output_type": "execute_result"
    }
   ],
   "source": [
    "y.argmax()"
   ]
  },
  {
   "cell_type": "code",
   "execution_count": 116,
   "id": "a44fcc52-d4db-473a-b6f4-100d8ee00f5b",
   "metadata": {},
   "outputs": [
    {
     "data": {
      "text/plain": [
       "array([45. , 34.5, 56. , 67. ])"
      ]
     },
     "execution_count": 116,
     "metadata": {},
     "output_type": "execute_result"
    }
   ],
   "source": [
    "y"
   ]
  },
  {
   "cell_type": "code",
   "execution_count": 117,
   "id": "2beb90ee-830e-4f7b-bb0c-3510e76756dd",
   "metadata": {},
   "outputs": [
    {
     "data": {
      "text/plain": [
       "dtype('int32')"
      ]
     },
     "execution_count": 117,
     "metadata": {},
     "output_type": "execute_result"
    }
   ],
   "source": [
    "M.dtype"
   ]
  },
  {
   "cell_type": "code",
   "execution_count": 118,
   "id": "92cd3ad2-f3e4-479b-995a-4246fabac236",
   "metadata": {},
   "outputs": [],
   "source": [
    "M=M.astype(np.float16)"
   ]
  },
  {
   "cell_type": "code",
   "execution_count": 119,
   "id": "0d2e3b01-2829-4d4a-a10e-4129444bb84b",
   "metadata": {},
   "outputs": [
    {
     "data": {
      "text/plain": [
       "dtype('float16')"
      ]
     },
     "execution_count": 119,
     "metadata": {},
     "output_type": "execute_result"
    }
   ],
   "source": [
    "M.dtype\n"
   ]
  },
  {
   "cell_type": "code",
   "execution_count": 120,
   "id": "c75e6af8-40ca-4102-98d3-404994b230fd",
   "metadata": {},
   "outputs": [
    {
     "data": {
      "text/plain": [
       "array([[2., 3., 4.],\n",
       "       [3., 5., 4.],\n",
       "       [3., 5., 8.],\n",
       "       [3., 2., 9.]], dtype=float16)"
      ]
     },
     "execution_count": 120,
     "metadata": {},
     "output_type": "execute_result"
    }
   ],
   "source": [
    "M"
   ]
  },
  {
   "cell_type": "code",
   "execution_count": 122,
   "id": "cd4958ab-4e9e-45ef-afe7-16f0f36edd17",
   "metadata": {},
   "outputs": [
    {
     "data": {
      "text/plain": [
       "array([ 44,  56,  89, 100], dtype=uint8)"
      ]
     },
     "execution_count": 122,
     "metadata": {},
     "output_type": "execute_result"
    }
   ],
   "source": [
    "x\n"
   ]
  },
  {
   "cell_type": "code",
   "execution_count": 123,
   "id": "0dd8bedf-e66c-4dfe-9bb8-94955090ab8f",
   "metadata": {},
   "outputs": [],
   "source": [
    "y=x"
   ]
  },
  {
   "cell_type": "code",
   "execution_count": 124,
   "id": "d5989f68-5e73-4c88-8bb9-142e002e5a09",
   "metadata": {},
   "outputs": [],
   "source": [
    "y[0]=2"
   ]
  },
  {
   "cell_type": "code",
   "execution_count": 125,
   "id": "ef4641a4-3307-48bc-9536-973aaa308b3c",
   "metadata": {},
   "outputs": [
    {
     "data": {
      "text/plain": [
       "array([  2,  56,  89, 100], dtype=uint8)"
      ]
     },
     "execution_count": 125,
     "metadata": {},
     "output_type": "execute_result"
    }
   ],
   "source": [
    "x"
   ]
  },
  {
   "cell_type": "code",
   "execution_count": 126,
   "id": "4cd4f8ba-3040-4e3b-86f7-eb2606e2cc3c",
   "metadata": {},
   "outputs": [
    {
     "data": {
      "text/plain": [
       "1561468376848"
      ]
     },
     "execution_count": 126,
     "metadata": {},
     "output_type": "execute_result"
    }
   ],
   "source": [
    "id(y)"
   ]
  },
  {
   "cell_type": "code",
   "execution_count": 127,
   "id": "23ef4463-ebbd-4183-9b91-3e725c5b1616",
   "metadata": {},
   "outputs": [
    {
     "data": {
      "text/plain": [
       "1561468376848"
      ]
     },
     "execution_count": 127,
     "metadata": {},
     "output_type": "execute_result"
    }
   ],
   "source": [
    "id(x)"
   ]
  },
  {
   "cell_type": "code",
   "execution_count": 128,
   "id": "bcbf99a6-3014-4e90-a839-3e464f249d96",
   "metadata": {},
   "outputs": [
    {
     "data": {
      "text/plain": [
       "array([  2,  56,  89, 100], dtype=uint8)"
      ]
     },
     "execution_count": 128,
     "metadata": {},
     "output_type": "execute_result"
    }
   ],
   "source": [
    "y=x.copy()\n",
    "y"
   ]
  },
  {
   "cell_type": "code",
   "execution_count": 129,
   "id": "eae6c9b3-79d5-420b-9029-6d526b372130",
   "metadata": {},
   "outputs": [
    {
     "data": {
      "text/plain": [
       "1561469489424"
      ]
     },
     "execution_count": 129,
     "metadata": {},
     "output_type": "execute_result"
    }
   ],
   "source": [
    "id(y)"
   ]
  },
  {
   "cell_type": "code",
   "execution_count": null,
   "id": "2e672538-2c05-4e32-a1e8-82ea7e72c6c9",
   "metadata": {},
   "outputs": [],
   "source": []
  }
 ],
 "metadata": {
  "kernelspec": {
   "display_name": "Python 3 (ipykernel)",
   "language": "python",
   "name": "python3"
  },
  "language_info": {
   "codemirror_mode": {
    "name": "ipython",
    "version": 3
   },
   "file_extension": ".py",
   "mimetype": "text/x-python",
   "name": "python",
   "nbconvert_exporter": "python",
   "pygments_lexer": "ipython3",
   "version": "3.11.7"
  }
 },
 "nbformat": 4,
 "nbformat_minor": 5
}
